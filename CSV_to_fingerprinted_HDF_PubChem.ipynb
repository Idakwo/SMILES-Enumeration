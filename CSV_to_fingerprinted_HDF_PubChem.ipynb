{
 "cells": [
  {
   "cell_type": "code",
   "execution_count": 1,
   "metadata": {},
   "outputs": [],
   "source": [
    "from __future__ import print_function\n",
    "from rdkit import Chem\n",
    "from rdkit.Chem import Descriptors, AllChem\n",
    "import numpy as np\n",
    "import pandas as pd\n",
    "from matplotlib import pyplot as plt\n",
    "%matplotlib inline"
   ]
  },
  {
   "cell_type": "code",
   "execution_count": 2,
   "metadata": {},
   "outputs": [
    {
     "name": "stderr",
     "output_type": "stream",
     "text": [
      "/home/esben/.virtualenvs/keras2/local/lib/python2.7/site-packages/IPython/core/interactiveshell.py:2718: DtypeWarning: Columns (19,21) have mixed types. Specify dtype option on import or set low_memory=False.\n",
      "  interactivity=interactivity, compiler=compiler, result=result)\n"
     ]
    },
    {
     "data": {
      "text/html": [
       "<div>\n",
       "<style scoped>\n",
       "    .dataframe tbody tr th:only-of-type {\n",
       "        vertical-align: middle;\n",
       "    }\n",
       "\n",
       "    .dataframe tbody tr th {\n",
       "        vertical-align: top;\n",
       "    }\n",
       "\n",
       "    .dataframe thead th {\n",
       "        text-align: right;\n",
       "    }\n",
       "</style>\n",
       "<table border=\"1\" class=\"dataframe\">\n",
       "  <thead>\n",
       "    <tr style=\"text-align: right;\">\n",
       "      <th></th>\n",
       "      <th>Unnamed: 0</th>\n",
       "      <th>CID</th>\n",
       "      <th>smiles_parent</th>\n",
       "      <th>inchi</th>\n",
       "      <th>1159524PHENOTYPE</th>\n",
       "      <th>1159524_EFFICACY</th>\n",
       "      <th>1159524_OUTCOME</th>\n",
       "      <th>1159524_POTENCY</th>\n",
       "      <th>1159524_SCORE</th>\n",
       "      <th>588856PHENOTYPE</th>\n",
       "      <th>...</th>\n",
       "      <th>686979PHENOTYPE</th>\n",
       "      <th>686979_EFFICACY</th>\n",
       "      <th>686979_OUTCOME</th>\n",
       "      <th>686979_POTENCY</th>\n",
       "      <th>686979_SCORE</th>\n",
       "      <th>743266PHENOTYPE</th>\n",
       "      <th>743266_EFFICACY</th>\n",
       "      <th>743266_OUTCOME</th>\n",
       "      <th>743266_POTENCY</th>\n",
       "      <th>743266_SCORE</th>\n",
       "    </tr>\n",
       "  </thead>\n",
       "  <tbody>\n",
       "    <tr>\n",
       "      <th>0</th>\n",
       "      <td>0</td>\n",
       "      <td>6603008.0</td>\n",
       "      <td>CCOCCCNCC(=O)Nc1ccc(OC(F)(F)F)cc1</td>\n",
       "      <td>JDJXVIDQGFMBLJ-UHFFFAOYSA-N</td>\n",
       "      <td>Inactive</td>\n",
       "      <td>NaN</td>\n",
       "      <td>Inactive</td>\n",
       "      <td>NaN</td>\n",
       "      <td>0.0</td>\n",
       "      <td>Inactive</td>\n",
       "      <td>...</td>\n",
       "      <td>Inactive</td>\n",
       "      <td>NaN</td>\n",
       "      <td>Inactive</td>\n",
       "      <td>NaN</td>\n",
       "      <td>0.0</td>\n",
       "      <td>Inactive</td>\n",
       "      <td>NaN</td>\n",
       "      <td>Inactive</td>\n",
       "      <td>NaN</td>\n",
       "      <td>0.0</td>\n",
       "    </tr>\n",
       "    <tr>\n",
       "      <th>1</th>\n",
       "      <td>1</td>\n",
       "      <td>6602571.0</td>\n",
       "      <td>COCCn1nnnc1CN1CCC(Cc2ccccc2)CC1</td>\n",
       "      <td>YUFJVPXLDSAWIC-UHFFFAOYSA-N</td>\n",
       "      <td>NaN</td>\n",
       "      <td>NaN</td>\n",
       "      <td>NaN</td>\n",
       "      <td>NaN</td>\n",
       "      <td>NaN</td>\n",
       "      <td>Cytotoxic</td>\n",
       "      <td>...</td>\n",
       "      <td>Inactive</td>\n",
       "      <td>NaN</td>\n",
       "      <td>Inactive</td>\n",
       "      <td>NaN</td>\n",
       "      <td>0.0</td>\n",
       "      <td>Inactive</td>\n",
       "      <td>NaN</td>\n",
       "      <td>Inactive</td>\n",
       "      <td>NaN</td>\n",
       "      <td>0.0</td>\n",
       "    </tr>\n",
       "    <tr>\n",
       "      <th>2</th>\n",
       "      <td>2</td>\n",
       "      <td>6602616.0</td>\n",
       "      <td>COCCn1nnnc1CN1CCC(O)(c2cccc(C(F)(F)F)c2)CC1</td>\n",
       "      <td>OOGABMQFAKYYBW-UHFFFAOYSA-N</td>\n",
       "      <td>NaN</td>\n",
       "      <td>NaN</td>\n",
       "      <td>NaN</td>\n",
       "      <td>NaN</td>\n",
       "      <td>NaN</td>\n",
       "      <td>Inactive</td>\n",
       "      <td>...</td>\n",
       "      <td>Inactive</td>\n",
       "      <td>NaN</td>\n",
       "      <td>Inactive</td>\n",
       "      <td>NaN</td>\n",
       "      <td>0.0</td>\n",
       "      <td>Inactive</td>\n",
       "      <td>NaN</td>\n",
       "      <td>Inactive</td>\n",
       "      <td>NaN</td>\n",
       "      <td>0.0</td>\n",
       "    </tr>\n",
       "    <tr>\n",
       "      <th>3</th>\n",
       "      <td>3</td>\n",
       "      <td>644371.0</td>\n",
       "      <td>O=C(CN1CCCCCC1)NCCc1ccc(F)cc1</td>\n",
       "      <td>JHEKGAIZRVGERM-UHFFFAOYSA-N</td>\n",
       "      <td>NaN</td>\n",
       "      <td>NaN</td>\n",
       "      <td>NaN</td>\n",
       "      <td>NaN</td>\n",
       "      <td>NaN</td>\n",
       "      <td>Inactive</td>\n",
       "      <td>...</td>\n",
       "      <td>Inactive</td>\n",
       "      <td>NaN</td>\n",
       "      <td>Inactive</td>\n",
       "      <td>NaN</td>\n",
       "      <td>0.0</td>\n",
       "      <td>Inactive</td>\n",
       "      <td>NaN</td>\n",
       "      <td>Inactive</td>\n",
       "      <td>NaN</td>\n",
       "      <td>0.0</td>\n",
       "    </tr>\n",
       "    <tr>\n",
       "      <th>4</th>\n",
       "      <td>4</td>\n",
       "      <td>6603132.0</td>\n",
       "      <td>COc1ccc(C(=O)C(c2ccccc2)N2CCOCC2)cc1</td>\n",
       "      <td>QMFVJCSHYOSQRY-UHFFFAOYSA-N</td>\n",
       "      <td>Inactive</td>\n",
       "      <td>NaN</td>\n",
       "      <td>Inactive</td>\n",
       "      <td>NaN</td>\n",
       "      <td>0.0</td>\n",
       "      <td>Inactive</td>\n",
       "      <td>...</td>\n",
       "      <td>Inactive</td>\n",
       "      <td>NaN</td>\n",
       "      <td>Inactive</td>\n",
       "      <td>NaN</td>\n",
       "      <td>0.0</td>\n",
       "      <td>Inactive</td>\n",
       "      <td>NaN</td>\n",
       "      <td>Inactive</td>\n",
       "      <td>NaN</td>\n",
       "      <td>0.0</td>\n",
       "    </tr>\n",
       "  </tbody>\n",
       "</table>\n",
       "<p>5 rows × 54 columns</p>\n",
       "</div>"
      ],
      "text/plain": [
       "   Unnamed: 0        CID                                smiles_parent  \\\n",
       "0           0  6603008.0            CCOCCCNCC(=O)Nc1ccc(OC(F)(F)F)cc1   \n",
       "1           1  6602571.0              COCCn1nnnc1CN1CCC(Cc2ccccc2)CC1   \n",
       "2           2  6602616.0  COCCn1nnnc1CN1CCC(O)(c2cccc(C(F)(F)F)c2)CC1   \n",
       "3           3   644371.0                O=C(CN1CCCCCC1)NCCc1ccc(F)cc1   \n",
       "4           4  6603132.0         COc1ccc(C(=O)C(c2ccccc2)N2CCOCC2)cc1   \n",
       "\n",
       "                         inchi 1159524PHENOTYPE  1159524_EFFICACY  \\\n",
       "0  JDJXVIDQGFMBLJ-UHFFFAOYSA-N         Inactive               NaN   \n",
       "1  YUFJVPXLDSAWIC-UHFFFAOYSA-N              NaN               NaN   \n",
       "2  OOGABMQFAKYYBW-UHFFFAOYSA-N              NaN               NaN   \n",
       "3  JHEKGAIZRVGERM-UHFFFAOYSA-N              NaN               NaN   \n",
       "4  QMFVJCSHYOSQRY-UHFFFAOYSA-N         Inactive               NaN   \n",
       "\n",
       "  1159524_OUTCOME  1159524_POTENCY  1159524_SCORE 588856PHENOTYPE  \\\n",
       "0        Inactive              NaN            0.0        Inactive   \n",
       "1             NaN              NaN            NaN       Cytotoxic   \n",
       "2             NaN              NaN            NaN        Inactive   \n",
       "3             NaN              NaN            NaN        Inactive   \n",
       "4        Inactive              NaN            0.0        Inactive   \n",
       "\n",
       "      ...       686979PHENOTYPE 686979_EFFICACY  686979_OUTCOME  \\\n",
       "0     ...              Inactive             NaN        Inactive   \n",
       "1     ...              Inactive             NaN        Inactive   \n",
       "2     ...              Inactive             NaN        Inactive   \n",
       "3     ...              Inactive             NaN        Inactive   \n",
       "4     ...              Inactive             NaN        Inactive   \n",
       "\n",
       "   686979_POTENCY 686979_SCORE  743266PHENOTYPE 743266_EFFICACY  \\\n",
       "0             NaN          0.0         Inactive             NaN   \n",
       "1             NaN          0.0         Inactive             NaN   \n",
       "2             NaN          0.0         Inactive             NaN   \n",
       "3             NaN          0.0         Inactive             NaN   \n",
       "4             NaN          0.0         Inactive             NaN   \n",
       "\n",
       "   743266_OUTCOME  743266_POTENCY 743266_SCORE  \n",
       "0        Inactive             NaN          0.0  \n",
       "1        Inactive             NaN          0.0  \n",
       "2        Inactive             NaN          0.0  \n",
       "3        Inactive             NaN          0.0  \n",
       "4        Inactive             NaN          0.0  \n",
       "\n",
       "[5 rows x 54 columns]"
      ]
     },
     "execution_count": 2,
     "metadata": {},
     "output_type": "execute_result"
    }
   ],
   "source": [
    "data = pd.read_csv(\"Datasets/PubChemDF_new.csv\")\n",
    "data.head()"
   ]
  },
  {
   "cell_type": "code",
   "execution_count": 3,
   "metadata": {},
   "outputs": [
    {
     "data": {
      "text/plain": [
       "Index([u'Unnamed: 0', u'CID', u'smiles_parent', u'inchi', u'1159524PHENOTYPE',\n",
       "       u'1159524_EFFICACY', u'1159524_OUTCOME', u'1159524_POTENCY',\n",
       "       u'1159524_SCORE', u'588856PHENOTYPE', u'588856_EFFICACY',\n",
       "       u'588856_OUTCOME', u'588856_POTENCY', u'588856_SCORE',\n",
       "       u'602332PHENOTYPE', u'602332_EFFICACY', u'602332_OUTCOME',\n",
       "       u'602332_POTENCY', u'602332_SCORE', u'624170PHENOTYPE',\n",
       "       u'624170_EFFICACY', u'624170_OUTCOME', u'624170_POTENCY',\n",
       "       u'624170_SCORE', u'624173PHENOTYPE', u'624173_EFFICACY',\n",
       "       u'624173_OUTCOME', u'624173_POTENCY', u'624173_SCORE',\n",
       "       u'624263PHENOTYPE', u'624263_EFFICACY', u'624263_OUTCOME',\n",
       "       u'624263_POTENCY', u'624263_SCORE', u'652048PHENOTYPE',\n",
       "       u'652048_EFFICACY', u'652048_OUTCOME', u'652048_POTENCY',\n",
       "       u'652048_SCORE', u'686978PHENOTYPE', u'686978_EFFICACY',\n",
       "       u'686978_OUTCOME', u'686978_POTENCY', u'686978_SCORE',\n",
       "       u'686979PHENOTYPE', u'686979_EFFICACY', u'686979_OUTCOME',\n",
       "       u'686979_POTENCY', u'686979_SCORE', u'743266PHENOTYPE',\n",
       "       u'743266_EFFICACY', u'743266_OUTCOME', u'743266_POTENCY',\n",
       "       u'743266_SCORE'],\n",
       "      dtype='object')"
      ]
     },
     "execution_count": 3,
     "metadata": {},
     "output_type": "execute_result"
    }
   ],
   "source": [
    "data.columns"
   ]
  },
  {
   "cell_type": "code",
   "execution_count": 4,
   "metadata": {},
   "outputs": [],
   "source": [
    "import itertools\n",
    "\n",
    "def morgan_fp(smiles):\n",
    "    mol = Chem.MolFromSmiles(smiles)\n",
    "    fp = AllChem.GetMorganFingerprintAsBitVect(mol,3, nBits=8192)\n",
    "    #itertools have a slight advantage over just using map(int, fp.ToBitString())\n",
    "    return list(itertools.imap(int, fp.ToBitString()))\n"
   ]
  },
  {
   "cell_type": "code",
   "execution_count": 5,
   "metadata": {},
   "outputs": [],
   "source": [
    "fpa = np.zeros((len(data),8192), dtype='int8')\n",
    "\n",
    "#Putting the FP's in the dataframe gives memory errors on saving\n",
    "#data[\"morgan\"] = data[\"smiles_parent\"].apply(morgan_fp)"
   ]
  },
  {
   "cell_type": "code",
   "execution_count": 6,
   "metadata": {},
   "outputs": [
    {
     "name": "stdout",
     "output_type": "stream",
     "text": [
      "0 1000 2000 3000 4000 5000 6000 7000 8000 9000 10000 11000 12000 13000 14000 15000 16000 17000 18000 19000 20000 21000 22000 23000 24000 25000 26000 27000 28000 29000 30000 31000 32000 33000 34000 35000 36000 37000 38000 39000 40000 41000 42000 43000 44000 45000 46000 47000 48000 49000 50000 51000 52000 53000 54000 55000 56000 57000 58000 59000 60000 61000 62000 63000 64000 65000 66000 67000 68000 69000 70000 71000 72000 73000 74000 75000 76000 77000 78000 79000 80000 81000 82000 83000 84000 85000 86000 87000 88000 89000 90000 91000 92000 93000 94000 95000 96000 97000 98000 99000 100000 101000 102000 103000 104000 105000 106000 107000 108000 109000 110000 111000 112000 113000 114000 115000 116000 117000 118000 119000 120000 121000 122000 123000 124000 125000 126000 127000 128000 129000 130000 131000 132000 133000 134000 135000 136000 137000 138000 139000 140000 141000 142000 143000 144000 145000 146000 147000 148000 149000 150000 151000 152000 153000 154000 155000 156000 157000 158000 159000 160000 161000 162000 163000 164000 165000 166000 167000 168000 169000 170000 171000 172000 173000 174000 175000 176000 177000 178000 179000 180000 181000 182000 183000 184000 185000 186000 187000 188000 189000 190000 191000 192000 193000 194000 195000 196000 197000 198000 199000 200000 201000 202000 203000 204000 205000 206000 207000 208000 209000 210000 211000 212000 213000 214000 215000 216000 217000 218000 219000 220000 221000 222000 223000 224000 225000 226000 227000 228000 229000 230000 231000 232000 233000 234000 235000 236000 237000 238000 239000 240000 241000 242000 243000 244000 245000 246000 247000 248000 249000 250000 251000 252000 253000 254000 255000 256000 257000 258000 259000 260000 261000 262000 263000 264000 265000 266000 267000 268000 269000 270000 271000 272000 273000 274000 275000 276000 277000 278000 279000 280000 281000 282000 283000 284000 285000 286000 287000 288000 289000 290000 291000 292000 293000 294000 295000 296000 297000 298000 299000 300000 301000 302000 303000 304000 305000 306000 307000 308000 309000 310000 311000 312000 313000 314000 315000 316000 317000 318000 319000 320000 321000 322000 323000 324000 325000 326000 327000 328000 329000 330000 331000 332000 333000 334000 335000 336000 337000 338000 339000 340000 341000 342000 343000 344000 345000 346000 347000 348000 349000 350000 351000 352000 353000 354000 355000 356000 357000 358000 359000 360000 361000 362000 363000 364000 365000 366000 367000 368000 369000 370000 371000 372000 373000 374000 375000 376000 377000 378000 379000 380000 381000 382000 383000 384000 385000 386000 387000 388000 389000 390000 391000 392000 393000 394000 395000 396000 397000 398000 399000 400000 401000 402000 403000 404000 405000 406000 407000 408000 409000 410000 411000 412000 413000 414000 415000 416000 417000 418000 419000 420000 421000 422000 423000 "
     ]
    }
   ],
   "source": [
    "for i,smiles in enumerate(data.smiles_parent):\n",
    "    if i%1000 == 0:\n",
    "        print(i, end=' ')\n",
    "    fpa[i] = np.array(morgan_fp(smiles))"
   ]
  },
  {
   "cell_type": "code",
   "execution_count": null,
   "metadata": {},
   "outputs": [],
   "source": [
    "#Fingerprint the mols\n",
    "from rdkit.Chem.EState import Fingerprinter\n",
    "from rdkit.Chem.AtomPairs import Torsions\n",
    "#from rdkit.Avalon import pyAvalonTools\n",
    "from rdkit.Chem import MACCSkeys, AllChem\n",
    "def combi_fp(smiles):\n",
    "    mol = Chem.MolFromSmiles(smiles)\n",
    "    morgan = AllChem.GetMorganFingerprintAsBitVect(mol,4, nBits=8192)\n",
    "    maccs = MACCSkeys.GenMACCSKeys(mol)\n",
    "    #avalon = pyAvalonTools.GetAvalonFP(mol, nBits=8192)\n",
    "    estate = Fingerprinter.FingerprintMol(mol)[0]\n",
    "    topotorsion = Torsions.GetHashedTopologicalTorsionFingerprint(mol)\n",
    "    npfp = np.array(list(morgan.ToBitString()) + list(maccs.ToBitString()) + list(estate) + list(topotorsion)  ).astype('int8')\n",
    "    return npfp\n"
   ]
  },
  {
   "cell_type": "code",
   "execution_count": 18,
   "metadata": {},
   "outputs": [
    {
     "data": {
      "text/plain": [
       "dtype('float64')"
      ]
     },
     "execution_count": 18,
     "metadata": {},
     "output_type": "execute_result"
    }
   ],
   "source": [
    "fpa.astype('int8')"
   ]
  },
  {
   "cell_type": "code",
   "execution_count": null,
   "metadata": {},
   "outputs": [],
   "source": [
    "#data[\"combi\"] = data[\"smiles_parent\"].apply(combi_fp)"
   ]
  },
  {
   "cell_type": "code",
   "execution_count": null,
   "metadata": {},
   "outputs": [],
   "source": [
    "data.head()"
   ]
  },
  {
   "cell_type": "code",
   "execution_count": 7,
   "metadata": {},
   "outputs": [
    {
     "name": "stderr",
     "output_type": "stream",
     "text": [
      "/home/esben/.virtualenvs/keras2/local/lib/python2.7/site-packages/pandas/core/generic.py:1471: PerformanceWarning: \n",
      "your performance may suffer as PyTables will pickle object types that it cannot\n",
      "map directly to c-types [inferred_type->mixed,key->block2_values] [items->['smiles_parent', 'inchi', '1159524PHENOTYPE', '1159524_OUTCOME', '588856PHENOTYPE', '588856_OUTCOME', '602332PHENOTYPE', '602332_OUTCOME', '624170PHENOTYPE', '624170_OUTCOME', '624173PHENOTYPE', '624173_OUTCOME', '624263PHENOTYPE', '624263_OUTCOME', '652048_OUTCOME', '686978PHENOTYPE', '686978_OUTCOME', '686979PHENOTYPE', '686979_OUTCOME', '743266PHENOTYPE', '743266_OUTCOME']]\n",
      "\n",
      "  return pytables.to_hdf(path_or_buf, key, self, **kwargs)\n"
     ]
    }
   ],
   "source": [
    "#Can't save the dataframe as I get memoryerrors, when I include the FP as lists\n",
    "data.to_hdf(\"Datasets/PubChemDF_new.h5\",\"data\")"
   ]
  },
  {
   "cell_type": "code",
   "execution_count": 8,
   "metadata": {},
   "outputs": [],
   "source": [
    "import h5py\n",
    "\n",
    "hdf = h5py.File(\"Datasets/PubChemDF_fp_array_new.h5\",'w')"
   ]
  },
  {
   "cell_type": "code",
   "execution_count": 9,
   "metadata": {},
   "outputs": [
    {
     "data": {
      "text/plain": [
       "<HDF5 dataset \"fp_array\": shape (423817, 8192), type \"|i1\">"
      ]
     },
     "execution_count": 9,
     "metadata": {},
     "output_type": "execute_result"
    }
   ],
   "source": [
    "hdf.create_dataset('fp_array', data=fpa, dtype='int8', compression=1)"
   ]
  },
  {
   "cell_type": "code",
   "execution_count": 10,
   "metadata": {},
   "outputs": [],
   "source": [
    "hdf.close()"
   ]
  },
  {
   "cell_type": "code",
   "execution_count": 25,
   "metadata": {
    "scrolled": true
   },
   "outputs": [
    {
     "name": "stdout",
     "output_type": "stream",
     "text": [
      "Help on method create_dataset in module h5py._hl.group:\n",
      "\n",
      "create_dataset(self, name, shape=None, dtype=None, data=None, **kwds) method of h5py._hl.files.File instance\n",
      "    Create a new HDF5 dataset\n",
      "    \n",
      "    name\n",
      "        Name of the dataset (absolute or relative).  Provide None to make\n",
      "        an anonymous dataset.\n",
      "    shape\n",
      "        Dataset shape.  Use \"()\" for scalar datasets.  Required if \"data\"\n",
      "        isn't provided.\n",
      "    dtype\n",
      "        Numpy dtype or string.  If omitted, dtype('f') will be used.\n",
      "        Required if \"data\" isn't provided; otherwise, overrides data\n",
      "        array's dtype.\n",
      "    data\n",
      "        Provide data to initialize the dataset.  If used, you can omit\n",
      "        shape and dtype arguments.\n",
      "    \n",
      "    Keyword-only arguments:\n",
      "    \n",
      "    chunks\n",
      "        (Tuple) Chunk shape, or True to enable auto-chunking.\n",
      "    maxshape\n",
      "        (Tuple) Make the dataset resizable up to this shape.  Use None for\n",
      "        axes you want to be unlimited.\n",
      "    compression\n",
      "        (String or int) Compression strategy.  Legal values are 'gzip',\n",
      "        'szip', 'lzf'.  If an integer in range(10), this indicates gzip\n",
      "        compression level. Otherwise, an integer indicates the number of a\n",
      "        dynamically loaded compression filter.\n",
      "    compression_opts\n",
      "        Compression settings.  This is an integer for gzip, 2-tuple for\n",
      "        szip, etc. If specifying a dynamically loaded compression filter\n",
      "        number, this must be a tuple of values.\n",
      "    scaleoffset\n",
      "        (Integer) Enable scale/offset filter for (usually) lossy\n",
      "        compression of integer or floating-point data. For integer\n",
      "        data, the value of scaleoffset is the number of bits to\n",
      "        retain (pass 0 to let HDF5 determine the minimum number of\n",
      "        bits necessary for lossless compression). For floating point\n",
      "        data, scaleoffset is the number of digits after the decimal\n",
      "        place to retain; stored values thus have absolute error\n",
      "        less than 0.5*10**(-scaleoffset).\n",
      "    shuffle\n",
      "        (T/F) Enable shuffle filter.\n",
      "    fletcher32\n",
      "        (T/F) Enable fletcher32 error detection. Not permitted in\n",
      "        conjunction with the scale/offset filter.\n",
      "    fillvalue\n",
      "        (Scalar) Use this value for uninitialized parts of the dataset.\n",
      "    track_times\n",
      "        (T/F) Enable dataset creation timestamps.\n",
      "\n"
     ]
    }
   ],
   "source": [
    "help(hdf.create_dataset)"
   ]
  },
  {
   "cell_type": "code",
   "execution_count": null,
   "metadata": {},
   "outputs": [],
   "source": [
    "#Convert back %timeit a = np.array(list(data2.morgan))"
   ]
  },
  {
   "cell_type": "code",
   "execution_count": null,
   "metadata": {},
   "outputs": [],
   "source": []
  }
 ],
 "metadata": {
  "kernelspec": {
   "display_name": "Keras2.1.1-Tensorflow",
   "language": "python",
   "name": "keras2.1.1-tensorflow"
  },
  "language_info": {
   "codemirror_mode": {
    "name": "ipython",
    "version": 2
   },
   "file_extension": ".py",
   "mimetype": "text/x-python",
   "name": "python",
   "nbconvert_exporter": "python",
   "pygments_lexer": "ipython2",
   "version": "2.7.12"
  }
 },
 "nbformat": 4,
 "nbformat_minor": 2
}
