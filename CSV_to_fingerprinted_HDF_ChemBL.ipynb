{
 "cells": [
  {
   "cell_type": "code",
   "execution_count": 1,
   "metadata": {},
   "outputs": [],
   "source": [
    "from __future__ import print_function\n",
    "from rdkit import Chem\n",
    "from rdkit.Chem import Descriptors, AllChem\n",
    "import numpy as np\n",
    "import pandas as pd\n",
    "from matplotlib import pyplot as plt\n",
    "%matplotlib inline"
   ]
  },
  {
   "cell_type": "code",
   "execution_count": 2,
   "metadata": {},
   "outputs": [
    {
     "name": "stderr",
     "output_type": "stream",
     "text": [
      "/home/esben/.virtualenvs/keras2/local/lib/python2.7/site-packages/IPython/core/interactiveshell.py:2718: DtypeWarning: Columns (7,29,31,33,35,37,39) have mixed types. Specify dtype option on import or set low_memory=False.\n",
      "  interactivity=interactivity, compiler=compiler, result=result)\n"
     ]
    },
    {
     "data": {
      "text/html": [
       "<div>\n",
       "<style scoped>\n",
       "    .dataframe tbody tr th:only-of-type {\n",
       "        vertical-align: middle;\n",
       "    }\n",
       "\n",
       "    .dataframe tbody tr th {\n",
       "        vertical-align: top;\n",
       "    }\n",
       "\n",
       "    .dataframe thead th {\n",
       "        text-align: right;\n",
       "    }\n",
       "</style>\n",
       "<table border=\"1\" class=\"dataframe\">\n",
       "  <thead>\n",
       "    <tr style=\"text-align: right;\">\n",
       "      <th></th>\n",
       "      <th>stdInChiKey</th>\n",
       "      <th>1613933_operator</th>\n",
       "      <th>1613933_value</th>\n",
       "      <th>1614063_operator</th>\n",
       "      <th>1614063_value</th>\n",
       "      <th>1614364_operator</th>\n",
       "      <th>1614364_value</th>\n",
       "      <th>1614421_operator</th>\n",
       "      <th>1614421_value</th>\n",
       "      <th>1794557_operator</th>\n",
       "      <th>...</th>\n",
       "      <th>3705123_operator</th>\n",
       "      <th>3705123_value</th>\n",
       "      <th>3705362_operator</th>\n",
       "      <th>3705362_value</th>\n",
       "      <th>3705488_operator</th>\n",
       "      <th>3705488_value</th>\n",
       "      <th>3706373_operator</th>\n",
       "      <th>3706373_value</th>\n",
       "      <th>smiles</th>\n",
       "      <th>smiles_parent</th>\n",
       "    </tr>\n",
       "  </thead>\n",
       "  <tbody>\n",
       "    <tr>\n",
       "      <th>0</th>\n",
       "      <td>RJYFVJPEXKPGNZ-UHFFFAOYSA-N</td>\n",
       "      <td>NaN</td>\n",
       "      <td>NaN</td>\n",
       "      <td>NaN</td>\n",
       "      <td>NaN</td>\n",
       "      <td>NaN</td>\n",
       "      <td>NaN</td>\n",
       "      <td>=</td>\n",
       "      <td>1412.5</td>\n",
       "      <td>NaN</td>\n",
       "      <td>...</td>\n",
       "      <td>NaN</td>\n",
       "      <td>NaN</td>\n",
       "      <td>NaN</td>\n",
       "      <td>NaN</td>\n",
       "      <td>NaN</td>\n",
       "      <td>NaN</td>\n",
       "      <td>NaN</td>\n",
       "      <td>NaN</td>\n",
       "      <td>COc1ccccc1C2CCN(CC2)C(=Nc3ccc(Br)cc3)S</td>\n",
       "      <td>COc1ccccc1C1CCN(C(S)=Nc2ccc(Br)cc2)CC1</td>\n",
       "    </tr>\n",
       "    <tr>\n",
       "      <th>1</th>\n",
       "      <td>GNWGGHKGEXNNMK-UHFFFAOYSA-N</td>\n",
       "      <td>NaN</td>\n",
       "      <td>NaN</td>\n",
       "      <td>NaN</td>\n",
       "      <td>NaN</td>\n",
       "      <td>NaN</td>\n",
       "      <td>NaN</td>\n",
       "      <td>=</td>\n",
       "      <td>17782.8</td>\n",
       "      <td>NaN</td>\n",
       "      <td>...</td>\n",
       "      <td>NaN</td>\n",
       "      <td>NaN</td>\n",
       "      <td>NaN</td>\n",
       "      <td>NaN</td>\n",
       "      <td>NaN</td>\n",
       "      <td>NaN</td>\n",
       "      <td>NaN</td>\n",
       "      <td>NaN</td>\n",
       "      <td>Cc1ccc(O)c(NC(=O)c2onc(c2)c3ccc(F)cc3)c1</td>\n",
       "      <td>Cc1ccc(O)c(NC(=O)c2cc(-c3ccc(F)cc3)no2)c1</td>\n",
       "    </tr>\n",
       "    <tr>\n",
       "      <th>2</th>\n",
       "      <td>LVDHDRPSCLIFHH-RDRPBHBLSA-N</td>\n",
       "      <td>NaN</td>\n",
       "      <td>NaN</td>\n",
       "      <td>NaN</td>\n",
       "      <td>NaN</td>\n",
       "      <td>=</td>\n",
       "      <td>5011.9</td>\n",
       "      <td>=</td>\n",
       "      <td>10000.0</td>\n",
       "      <td>NaN</td>\n",
       "      <td>...</td>\n",
       "      <td>NaN</td>\n",
       "      <td>NaN</td>\n",
       "      <td>NaN</td>\n",
       "      <td>NaN</td>\n",
       "      <td>NaN</td>\n",
       "      <td>NaN</td>\n",
       "      <td>NaN</td>\n",
       "      <td>NaN</td>\n",
       "      <td>COc1ccccc1NC(=O)C(=O)N\\N=C(/C)\\CC(=O)Nc2ccc(OC...</td>\n",
       "      <td>COc1ccccc1NC(=O)C(=O)NN=C(C)CC(=O)Nc1ccc(OCc2c...</td>\n",
       "    </tr>\n",
       "    <tr>\n",
       "      <th>3</th>\n",
       "      <td>OJENVBWGZAMKEC-UHFFFAOYSA-N</td>\n",
       "      <td>NaN</td>\n",
       "      <td>NaN</td>\n",
       "      <td>NaN</td>\n",
       "      <td>NaN</td>\n",
       "      <td>NaN</td>\n",
       "      <td>NaN</td>\n",
       "      <td>=</td>\n",
       "      <td>707.9</td>\n",
       "      <td>NaN</td>\n",
       "      <td>...</td>\n",
       "      <td>NaN</td>\n",
       "      <td>NaN</td>\n",
       "      <td>NaN</td>\n",
       "      <td>NaN</td>\n",
       "      <td>NaN</td>\n",
       "      <td>NaN</td>\n",
       "      <td>NaN</td>\n",
       "      <td>NaN</td>\n",
       "      <td>CC(=O)c1ccc(NC(=O)c2oc(cc2)c3ccc(Cl)cc3)cc1</td>\n",
       "      <td>CC(=O)c1ccc(NC(=O)c2ccc(-c3ccc(Cl)cc3)o2)cc1</td>\n",
       "    </tr>\n",
       "    <tr>\n",
       "      <th>4</th>\n",
       "      <td>HGUWAIXVEMNODZ-UHFFFAOYSA-N</td>\n",
       "      <td>NaN</td>\n",
       "      <td>NaN</td>\n",
       "      <td>NaN</td>\n",
       "      <td>NaN</td>\n",
       "      <td>NaN</td>\n",
       "      <td>NaN</td>\n",
       "      <td>=</td>\n",
       "      <td>19952.6</td>\n",
       "      <td>NaN</td>\n",
       "      <td>...</td>\n",
       "      <td>NaN</td>\n",
       "      <td>NaN</td>\n",
       "      <td>NaN</td>\n",
       "      <td>NaN</td>\n",
       "      <td>NaN</td>\n",
       "      <td>NaN</td>\n",
       "      <td>NaN</td>\n",
       "      <td>NaN</td>\n",
       "      <td>Cc1nc2ncnn2c(N3CCN(CC3)c4cccc(c4)C(F)(F)F)c1C</td>\n",
       "      <td>Cc1nc2ncnn2c(N2CCN(c3cccc(C(F)(F)F)c3)CC2)c1C</td>\n",
       "    </tr>\n",
       "  </tbody>\n",
       "</table>\n",
       "<p>5 rows × 43 columns</p>\n",
       "</div>"
      ],
      "text/plain": [
       "                   stdInChiKey 1613933_operator  1613933_value  \\\n",
       "0  RJYFVJPEXKPGNZ-UHFFFAOYSA-N              NaN            NaN   \n",
       "1  GNWGGHKGEXNNMK-UHFFFAOYSA-N              NaN            NaN   \n",
       "2  LVDHDRPSCLIFHH-RDRPBHBLSA-N              NaN            NaN   \n",
       "3  OJENVBWGZAMKEC-UHFFFAOYSA-N              NaN            NaN   \n",
       "4  HGUWAIXVEMNODZ-UHFFFAOYSA-N              NaN            NaN   \n",
       "\n",
       "  1614063_operator  1614063_value 1614364_operator  1614364_value  \\\n",
       "0              NaN            NaN              NaN            NaN   \n",
       "1              NaN            NaN              NaN            NaN   \n",
       "2              NaN            NaN                =         5011.9   \n",
       "3              NaN            NaN              NaN            NaN   \n",
       "4              NaN            NaN              NaN            NaN   \n",
       "\n",
       "  1614421_operator  1614421_value 1794557_operator  \\\n",
       "0                =         1412.5              NaN   \n",
       "1                =        17782.8              NaN   \n",
       "2                =        10000.0              NaN   \n",
       "3                =          707.9              NaN   \n",
       "4                =        19952.6              NaN   \n",
       "\n",
       "                         ...                          3705123_operator  \\\n",
       "0                        ...                                       NaN   \n",
       "1                        ...                                       NaN   \n",
       "2                        ...                                       NaN   \n",
       "3                        ...                                       NaN   \n",
       "4                        ...                                       NaN   \n",
       "\n",
       "  3705123_value 3705362_operator 3705362_value 3705488_operator 3705488_value  \\\n",
       "0           NaN              NaN           NaN              NaN           NaN   \n",
       "1           NaN              NaN           NaN              NaN           NaN   \n",
       "2           NaN              NaN           NaN              NaN           NaN   \n",
       "3           NaN              NaN           NaN              NaN           NaN   \n",
       "4           NaN              NaN           NaN              NaN           NaN   \n",
       "\n",
       "  3706373_operator 3706373_value  \\\n",
       "0              NaN           NaN   \n",
       "1              NaN           NaN   \n",
       "2              NaN           NaN   \n",
       "3              NaN           NaN   \n",
       "4              NaN           NaN   \n",
       "\n",
       "                                              smiles  \\\n",
       "0             COc1ccccc1C2CCN(CC2)C(=Nc3ccc(Br)cc3)S   \n",
       "1           Cc1ccc(O)c(NC(=O)c2onc(c2)c3ccc(F)cc3)c1   \n",
       "2  COc1ccccc1NC(=O)C(=O)N\\N=C(/C)\\CC(=O)Nc2ccc(OC...   \n",
       "3        CC(=O)c1ccc(NC(=O)c2oc(cc2)c3ccc(Cl)cc3)cc1   \n",
       "4      Cc1nc2ncnn2c(N3CCN(CC3)c4cccc(c4)C(F)(F)F)c1C   \n",
       "\n",
       "                                       smiles_parent  \n",
       "0             COc1ccccc1C1CCN(C(S)=Nc2ccc(Br)cc2)CC1  \n",
       "1          Cc1ccc(O)c(NC(=O)c2cc(-c3ccc(F)cc3)no2)c1  \n",
       "2  COc1ccccc1NC(=O)C(=O)NN=C(C)CC(=O)Nc1ccc(OCc2c...  \n",
       "3       CC(=O)c1ccc(NC(=O)c2ccc(-c3ccc(Cl)cc3)o2)cc1  \n",
       "4      Cc1nc2ncnn2c(N2CCN(c3cccc(C(F)(F)F)c3)CC2)c1C  \n",
       "\n",
       "[5 rows x 43 columns]"
      ]
     },
     "execution_count": 2,
     "metadata": {},
     "output_type": "execute_result"
    }
   ],
   "source": [
    "data = pd.read_csv(\"Datasets/mergedChEMBLDF.csv\")\n",
    "data.head()"
   ]
  },
  {
   "cell_type": "code",
   "execution_count": 3,
   "metadata": {},
   "outputs": [
    {
     "data": {
      "text/plain": [
       "Index([u'stdInChiKey', u'1613933_operator', u'1613933_value',\n",
       "       u'1614063_operator', u'1614063_value', u'1614364_operator',\n",
       "       u'1614364_value', u'1614421_operator', u'1614421_value',\n",
       "       u'1794557_operator', u'1794557_value', u'1909116_operator',\n",
       "       u'1909116_value', u'1909123_operator', u'1909123_value',\n",
       "       u'1909130_operator', u'1909130_value', u'1909184_operator',\n",
       "       u'1909184_value', u'1909186_operator', u'1909186_value',\n",
       "       u'1909187_operator', u'1909187_value', u'1909194_operator',\n",
       "       u'1909194_value', u'1909195_operator', u'1909195_value',\n",
       "       u'1909196_operator', u'1909196_value', u'2218781_operator',\n",
       "       u'2218781_value', u'2328568_operator', u'2328568_value',\n",
       "       u'3705123_operator', u'3705123_value', u'3705362_operator',\n",
       "       u'3705362_value', u'3705488_operator', u'3705488_value',\n",
       "       u'3706373_operator', u'3706373_value', u'smiles', u'smiles_parent'],\n",
       "      dtype='object')"
      ]
     },
     "execution_count": 3,
     "metadata": {},
     "output_type": "execute_result"
    }
   ],
   "source": [
    "data.columns"
   ]
  },
  {
   "cell_type": "code",
   "execution_count": 4,
   "metadata": {},
   "outputs": [],
   "source": [
    "assays = [1614421,1614364,1613933,1909116,1909123,1909130,1909187,1909186,1909184,1909194,1909195,1909196,2328568,1794557,3706373,3705123,1614063,3705488,3705362,2218781]\n",
    "\n",
    "train_assays = assays[:10]\n",
    "test_assays = assays[10:]\n"
   ]
  },
  {
   "cell_type": "code",
   "execution_count": 5,
   "metadata": {},
   "outputs": [
    {
     "data": {
      "text/plain": [
       "set()"
      ]
     },
     "execution_count": 5,
     "metadata": {},
     "output_type": "execute_result"
    }
   ],
   "source": [
    "a =set(train_assays)\n",
    "a.intersection(set(test_assays))"
   ]
  },
  {
   "cell_type": "code",
   "execution_count": 9,
   "metadata": {},
   "outputs": [
    {
     "data": {
      "text/plain": [
       "(65382, 44)"
      ]
     },
     "execution_count": 9,
     "metadata": {},
     "output_type": "execute_result"
    }
   ],
   "source": [
    "data.shape"
   ]
  },
  {
   "cell_type": "code",
   "execution_count": 7,
   "metadata": {},
   "outputs": [],
   "source": [
    "def morgan_fp(smiles):\n",
    "\tmol = Chem.MolFromSmiles(smiles)\n",
    "\tfp = AllChem.GetMorganFingerprintAsBitVect(mol,3, nBits=8192)\n",
    "\tnpfp = np.array(list(fp.ToBitString())).astype('int8')\n",
    "\treturn npfp\n",
    "\n",
    "data[\"morgan\"] = data[\"smiles_parent\"].apply(morgan_fp)"
   ]
  },
  {
   "cell_type": "code",
   "execution_count": 10,
   "metadata": {},
   "outputs": [],
   "source": [
    "#Fingerprint the mols\n",
    "from rdkit.Chem.EState import Fingerprinter\n",
    "from rdkit.Chem.AtomPairs import Torsions\n",
    "#from rdkit.Avalon import pyAvalonTools\n",
    "from rdkit.Chem import MACCSkeys, AllChem\n",
    "def combi_fp(smiles):\n",
    "    mol = Chem.MolFromSmiles(smiles)\n",
    "    morgan = AllChem.GetMorganFingerprintAsBitVect(mol,4, nBits=8192)\n",
    "    maccs = MACCSkeys.GenMACCSKeys(mol)\n",
    "    #avalon = pyAvalonTools.GetAvalonFP(mol, nBits=8192)\n",
    "    estate = Fingerprinter.FingerprintMol(mol)[0]\n",
    "    topotorsion = Torsions.GetHashedTopologicalTorsionFingerprint(mol)\n",
    "    npfp = np.array(list(morgan.ToBitString()) + list(maccs.ToBitString()) + list(estate) + list(topotorsion)  ).astype('int8')\n",
    "    return npfp\n"
   ]
  },
  {
   "cell_type": "code",
   "execution_count": 11,
   "metadata": {},
   "outputs": [],
   "source": [
    "data[\"combi\"] = data[\"smiles_parent\"].apply(combi_fp)"
   ]
  },
  {
   "cell_type": "code",
   "execution_count": 13,
   "metadata": {},
   "outputs": [
    {
     "data": {
      "text/plain": [
       "Index([u'stdInChiKey', u'1613933_operator', u'1613933_value',\n",
       "       u'1614063_operator', u'1614063_value', u'1614364_operator',\n",
       "       u'1614364_value', u'1614421_operator', u'1614421_value',\n",
       "       u'1794557_operator', u'1794557_value', u'1909116_operator',\n",
       "       u'1909116_value', u'1909123_operator', u'1909123_value',\n",
       "       u'1909130_operator', u'1909130_value', u'1909184_operator',\n",
       "       u'1909184_value', u'1909186_operator', u'1909186_value',\n",
       "       u'1909187_operator', u'1909187_value', u'1909194_operator',\n",
       "       u'1909194_value', u'1909195_operator', u'1909195_value',\n",
       "       u'1909196_operator', u'1909196_value', u'2218781_operator',\n",
       "       u'2218781_value', u'2328568_operator', u'2328568_value',\n",
       "       u'3705123_operator', u'3705123_value', u'3705362_operator',\n",
       "       u'3705362_value', u'3705488_operator', u'3705488_value',\n",
       "       u'3706373_operator', u'3706373_value', u'smiles', u'smiles_parent',\n",
       "       u'morgan', u'combi'],\n",
       "      dtype='object')"
      ]
     },
     "execution_count": 13,
     "metadata": {},
     "output_type": "execute_result"
    }
   ],
   "source": [
    "data.columns"
   ]
  },
  {
   "cell_type": "code",
   "execution_count": 12,
   "metadata": {},
   "outputs": [
    {
     "name": "stderr",
     "output_type": "stream",
     "text": [
      "/home/esben/.virtualenvs/keras2/local/lib/python2.7/site-packages/pandas/core/generic.py:1471: PerformanceWarning: \n",
      "your performance may suffer as PyTables will pickle object types that it cannot\n",
      "map directly to c-types [inferred_type->mixed,key->block1_values] [items->['stdInChiKey', '1613933_operator', '1614063_operator', '1614364_operator', '1614421_operator', '1794557_operator', '1909116_operator', '1909116_value', '1909123_operator', '1909123_value', '1909130_operator', '1909130_value', '1909184_operator', '1909184_value', '1909186_operator', '1909186_value', '1909187_operator', '1909187_value', '1909194_operator', '1909194_value', '1909195_operator', '1909195_value', '1909196_operator', '1909196_value', '2218781_operator', '2328568_operator', '3705123_operator', '3705362_operator', '3705488_operator', '3706373_operator', 'smiles', 'smiles_parent', 'morgan', 'combi']]\n",
      "\n",
      "  return pytables.to_hdf(path_or_buf, key, self, **kwargs)\n"
     ]
    }
   ],
   "source": [
    "data.to_hdf(\"Datasets/mergedCHEMBLDF.h5\",\"data\")"
   ]
  },
  {
   "cell_type": "code",
   "execution_count": null,
   "metadata": {},
   "outputs": [],
   "source": []
  }
 ],
 "metadata": {
  "kernelspec": {
   "display_name": "Keras2.1.1-Tensorflow",
   "language": "python",
   "name": "keras2.1.1-tensorflow"
  },
  "language_info": {
   "codemirror_mode": {
    "name": "ipython",
    "version": 2
   },
   "file_extension": ".py",
   "mimetype": "text/x-python",
   "name": "python",
   "nbconvert_exporter": "python",
   "pygments_lexer": "ipython2",
   "version": "2.7.12"
  }
 },
 "nbformat": 4,
 "nbformat_minor": 2
}
